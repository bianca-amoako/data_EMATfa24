{
 "cells": [
  {
   "cell_type": "markdown",
   "id": "4e3ae158-5e02-4d29-a1d4-641aa7028424",
   "metadata": {},
   "source": [
    "### Album Comparison and Analysis Report\n",
    "#### Bianca Amoako\n",
    "#### 11/17/2024"
   ]
  },
  {
   "cell_type": "markdown",
   "id": "e1f8d59a-fe48-43ce-b459-33bf324500dc",
   "metadata": {},
   "source": [
    "#### Using Spotify's API, I will be looking at the albums *Friends That Break Your Heart* by James Blake and *Sound & Color* by Alabama Shakes. \n",
    "\n",
    "#### *Friends That Break Your Heart* by James Blake was relevant to me when I first heard the album. It discusses the fall out of friendships and how the artist experiences the emotions that come with it. Some of the songs express confusion while other songs express stength in one's self. Ever since the album came out, in 2021, I have revisited it multiple times and the themes are timeless.\n",
    "\n",
    "#### *Sound & Color* by Alabama Shakes is an album that has a unique sound. The lead singer of the band, Brittany Howard, has an incredible voice that gives the songs a large sense of hope and appreciation. The Amazon Prime show *Fleabag* is how I was introduced to this album through the song \"This Feeling\" which played at the end of the series finale."
   ]
  },
  {
   "cell_type": "markdown",
   "id": "4800fc26-5919-4bbf-8ae9-f28128c4c4c6",
   "metadata": {},
   "source": [
    "-------\n",
    "#### Calling the necessary libraries and using a function to get a session token from Spotify:"
   ]
  },
  {
   "cell_type": "code",
   "execution_count": 135,
   "id": "1edd075b-138f-47bb-a7bd-bf0b428000f4",
   "metadata": {},
   "outputs": [],
   "source": [
    "import json\n",
    "import requests\n",
    "import pandas as pd\n",
    "import base64\n",
    "import urllib\n",
    "from matplotlib import pyplot as plt\n",
    "import numpy as np\n",
    "from scipy import stats\n",
    "import statsmodels.formula.api as smf\n",
    "\n",
    "def get_session_token(ClientID, ClientKey):\n",
    "    url = \"https://accounts.spotify.com/api/token\"\n",
    "    data_ = {\"grant_type\" : \"client_credentials\"}\n",
    "    encoded_key = base64.b64encode(str(ClientID + \":\" + ClientKey).encode(\"ascii\"))\n",
    "    headers_ = {\"Authorization\": \"Basic {}\".format(encoded_key.decode(\"ascii\"))}\n",
    "\n",
    "    response = requests.post(url, data = data_, headers = headers_)\n",
    "    print(response.status_code)\n",
    "\n",
    "    return response.json()[\"access_token\"]"
   ]
  },
  {
   "cell_type": "code",
   "execution_count": 136,
   "id": "43bb1a70-f5a6-473a-a6ab-8eed05e22765",
   "metadata": {},
   "outputs": [],
   "source": [
    "client_info = pd.read_csv(\"/Users/biancaamoako/Data_EMAT/Spotify_API/spotify_client_info.txt\")"
   ]
  },
  {
   "cell_type": "code",
   "execution_count": 137,
   "id": "cc1ec487-d490-450b-b188-e19cc1c49889",
   "metadata": {},
   "outputs": [
    {
     "name": "stdout",
     "output_type": "stream",
     "text": [
      "200\n"
     ]
    }
   ],
   "source": [
    "client_id = client_info[\"Client_ID\"].iloc[0]\n",
    "client_key = client_info[\"Client_Secret\"].iloc[0]\n",
    "access_token = get_session_token(client_id, client_key)"
   ]
  },
  {
   "cell_type": "markdown",
   "id": "afcddb02-c6fe-457e-95f7-415277e13dd8",
   "metadata": {},
   "source": [
    "#### Using a function that takes a session header as \"token_header\" and endpoint url to make/return the API request. The session header is created by encoding the access token from above."
   ]
  },
  {
   "cell_type": "code",
   "execution_count": 138,
   "id": "378343e4-89bf-4973-adbb-c04c2d72d6fc",
   "metadata": {},
   "outputs": [],
   "source": [
    "def api_request(endpoint_url, token_header):\n",
    "    response = requests.get(endpoint_url, headers = token_header)\n",
    "    print(response.status_code)\n",
    "    \n",
    "    return response.json()"
   ]
  },
  {
   "cell_type": "markdown",
   "id": "134aa26d-e6bb-4e53-90e6-8b4cef7e3842",
   "metadata": {},
   "source": [
    "#### Session header, endpoint URLs for Get Album Tracks & Get Several Tracks' Audio Features, and Album IDs."
   ]
  },
  {
   "cell_type": "code",
   "execution_count": 139,
   "id": "f3f7a4e0-6812-4465-97b6-fae2eb88f5c1",
   "metadata": {},
   "outputs": [],
   "source": [
    "session_header = {\"Authorization\" : \"Bearer {}\".format(access_token)}\n",
    "\n",
    "#endpoints\n",
    "album_tracks_ep = \"https://api.spotify.com/v1/albums/{}/tracks\"\n",
    "sev_track_feats_ep = \"https://api.spotify.com/v1/audio-features?ids={}\"\n",
    "\n",
    "#almbum ids\n",
    "friends_id = \"1zNtJFMCNIyT0X19jpcI3j\"\n",
    "sound_color_id = \"0GaYG9L1sXHQZZ7BTk0hGY\""
   ]
  },
  {
   "cell_type": "markdown",
   "id": "4c726fe6-ac74-4d1a-9fb5-2b62d96f4e7b",
   "metadata": {},
   "source": [
    "#### Get Album Tracks API request/response."
   ]
  },
  {
   "cell_type": "code",
   "execution_count": 140,
   "id": "3a8d8bc9-283c-4c7a-8120-bf3841ae6c94",
   "metadata": {},
   "outputs": [
    {
     "name": "stdout",
     "output_type": "stream",
     "text": [
      "200\n",
      "200\n"
     ]
    }
   ],
   "source": [
    "friends_tracks = api_request(album_tracks_ep.format(friends_id), session_header)\n",
    "sound_color_tracks = api_request(album_tracks_ep.format(sound_color_id), session_header)"
   ]
  },
  {
   "cell_type": "markdown",
   "id": "5894d7b8-62f2-41ee-afeb-822172625f3b",
   "metadata": {},
   "source": [
    "#### Taking the album tracks and turning them into a Pandas DataFrame so I can pull the track ids."
   ]
  },
  {
   "cell_type": "code",
   "execution_count": 141,
   "id": "94bb13ac-baf1-4a35-8a10-66db18b4cf00",
   "metadata": {},
   "outputs": [
    {
     "data": {
      "text/html": [
       "<div>\n",
       "<style scoped>\n",
       "    .dataframe tbody tr th:only-of-type {\n",
       "        vertical-align: middle;\n",
       "    }\n",
       "\n",
       "    .dataframe tbody tr th {\n",
       "        vertical-align: top;\n",
       "    }\n",
       "\n",
       "    .dataframe thead th {\n",
       "        text-align: right;\n",
       "    }\n",
       "</style>\n",
       "<table border=\"1\" class=\"dataframe\">\n",
       "  <thead>\n",
       "    <tr style=\"text-align: right;\">\n",
       "      <th></th>\n",
       "      <th>artists</th>\n",
       "      <th>available_markets</th>\n",
       "      <th>disc_number</th>\n",
       "      <th>duration_ms</th>\n",
       "      <th>explicit</th>\n",
       "      <th>external_urls</th>\n",
       "      <th>href</th>\n",
       "      <th>id</th>\n",
       "      <th>name</th>\n",
       "      <th>preview_url</th>\n",
       "      <th>track_number</th>\n",
       "      <th>type</th>\n",
       "      <th>uri</th>\n",
       "      <th>is_local</th>\n",
       "    </tr>\n",
       "  </thead>\n",
       "  <tbody>\n",
       "    <tr>\n",
       "      <th>0</th>\n",
       "      <td>[{'external_urls': {'spotify': 'https://open.s...</td>\n",
       "      <td>[AR, AU, AT, BE, BO, BR, BG, CA, CL, CO, CR, C...</td>\n",
       "      <td>1</td>\n",
       "      <td>256155</td>\n",
       "      <td>False</td>\n",
       "      <td>{'spotify': 'https://open.spotify.com/track/1a...</td>\n",
       "      <td>https://api.spotify.com/v1/tracks/1axXy2bgUSeE...</td>\n",
       "      <td>1axXy2bgUSeEN7h6Ob9Qbo</td>\n",
       "      <td>Famous Last Words</td>\n",
       "      <td>None</td>\n",
       "      <td>1</td>\n",
       "      <td>track</td>\n",
       "      <td>spotify:track:1axXy2bgUSeEN7h6Ob9Qbo</td>\n",
       "      <td>False</td>\n",
       "    </tr>\n",
       "    <tr>\n",
       "      <th>1</th>\n",
       "      <td>[{'external_urls': {'spotify': 'https://open.s...</td>\n",
       "      <td>[AR, AU, AT, BE, BO, BR, BG, CA, CL, CO, CR, C...</td>\n",
       "      <td>1</td>\n",
       "      <td>199639</td>\n",
       "      <td>False</td>\n",
       "      <td>{'spotify': 'https://open.spotify.com/track/5L...</td>\n",
       "      <td>https://api.spotify.com/v1/tracks/5LriwAnVbywA...</td>\n",
       "      <td>5LriwAnVbywAjj9oGi1Dno</td>\n",
       "      <td>Life Is Not The Same</td>\n",
       "      <td>None</td>\n",
       "      <td>2</td>\n",
       "      <td>track</td>\n",
       "      <td>spotify:track:5LriwAnVbywAjj9oGi1Dno</td>\n",
       "      <td>False</td>\n",
       "    </tr>\n",
       "    <tr>\n",
       "      <th>2</th>\n",
       "      <td>[{'external_urls': {'spotify': 'https://open.s...</td>\n",
       "      <td>[AR, AU, AT, BE, BO, BR, BG, CA, CL, CO, CR, C...</td>\n",
       "      <td>1</td>\n",
       "      <td>195905</td>\n",
       "      <td>True</td>\n",
       "      <td>{'spotify': 'https://open.spotify.com/track/2p...</td>\n",
       "      <td>https://api.spotify.com/v1/tracks/2pSsHnjAgEPj...</td>\n",
       "      <td>2pSsHnjAgEPjHmet7ChlHQ</td>\n",
       "      <td>Coming Back (feat. SZA)</td>\n",
       "      <td>None</td>\n",
       "      <td>3</td>\n",
       "      <td>track</td>\n",
       "      <td>spotify:track:2pSsHnjAgEPjHmet7ChlHQ</td>\n",
       "      <td>False</td>\n",
       "    </tr>\n",
       "  </tbody>\n",
       "</table>\n",
       "</div>"
      ],
      "text/plain": [
       "                                             artists  \\\n",
       "0  [{'external_urls': {'spotify': 'https://open.s...   \n",
       "1  [{'external_urls': {'spotify': 'https://open.s...   \n",
       "2  [{'external_urls': {'spotify': 'https://open.s...   \n",
       "\n",
       "                                   available_markets  disc_number  \\\n",
       "0  [AR, AU, AT, BE, BO, BR, BG, CA, CL, CO, CR, C...            1   \n",
       "1  [AR, AU, AT, BE, BO, BR, BG, CA, CL, CO, CR, C...            1   \n",
       "2  [AR, AU, AT, BE, BO, BR, BG, CA, CL, CO, CR, C...            1   \n",
       "\n",
       "   duration_ms  explicit                                      external_urls  \\\n",
       "0       256155     False  {'spotify': 'https://open.spotify.com/track/1a...   \n",
       "1       199639     False  {'spotify': 'https://open.spotify.com/track/5L...   \n",
       "2       195905      True  {'spotify': 'https://open.spotify.com/track/2p...   \n",
       "\n",
       "                                                href                      id  \\\n",
       "0  https://api.spotify.com/v1/tracks/1axXy2bgUSeE...  1axXy2bgUSeEN7h6Ob9Qbo   \n",
       "1  https://api.spotify.com/v1/tracks/5LriwAnVbywA...  5LriwAnVbywAjj9oGi1Dno   \n",
       "2  https://api.spotify.com/v1/tracks/2pSsHnjAgEPj...  2pSsHnjAgEPjHmet7ChlHQ   \n",
       "\n",
       "                      name preview_url  track_number   type  \\\n",
       "0        Famous Last Words        None             1  track   \n",
       "1     Life Is Not The Same        None             2  track   \n",
       "2  Coming Back (feat. SZA)        None             3  track   \n",
       "\n",
       "                                    uri  is_local  \n",
       "0  spotify:track:1axXy2bgUSeEN7h6Ob9Qbo     False  \n",
       "1  spotify:track:5LriwAnVbywAjj9oGi1Dno     False  \n",
       "2  spotify:track:2pSsHnjAgEPjHmet7ChlHQ     False  "
      ]
     },
     "execution_count": 141,
     "metadata": {},
     "output_type": "execute_result"
    }
   ],
   "source": [
    "friends_album_df = pd.DataFrame(friends_tracks[\"items\"])\n",
    "sound_color_album_df = pd.DataFrame(sound_color_tracks[\"items\"])\n",
    "friends_album_df.head(3)"
   ]
  },
  {
   "cell_type": "markdown",
   "id": "237cc599-91be-4e46-9c36-3cd5e537dc63",
   "metadata": {},
   "source": [
    "#### Turning the track ids for both albums into a list of strings to pass to Get Several Tracks' Audio Features endpoint. Then creating a Pandas DataFrame from merged responses."
   ]
  },
  {
   "cell_type": "code",
   "execution_count": 142,
   "id": "dff482b8-fcb2-4a3b-b2a0-c00f53a9d10d",
   "metadata": {},
   "outputs": [
    {
     "name": "stdout",
     "output_type": "stream",
     "text": [
      "200\n",
      "200\n"
     ]
    }
   ],
   "source": [
    "friends_track_ids = \",\".join(friends_album_df[\"id\"].tolist())\n",
    "sound_color_track_ids = \",\".join(sound_color_album_df[\"id\"].tolist())\n",
    "\n",
    "#several tracks audio features endpoint request\n",
    "friends_track_feat = api_request(sev_track_feats_ep.format(friends_track_ids), session_header)\n",
    "sound_color_track_feat = api_request(sev_track_feats_ep.format(sound_color_track_ids), session_header)"
   ]
  },
  {
   "cell_type": "code",
   "execution_count": 143,
   "id": "35e7a414-a7a3-4f67-b836-057827eda43e",
   "metadata": {},
   "outputs": [],
   "source": [
    "friends_df = pd.DataFrame(friends_track_feat[\"audio_features\"])\n",
    "friends_df = pd.merge(friends_df, friends_album_df[[\"name\", \"id\"]], how  = \"inner\", on = \"id\")\n",
    "\n",
    "sound_color_df = pd.DataFrame(sound_color_track_feat[\"audio_features\"])\n",
    "sound_color_df = pd.merge(sound_color_df, sound_color_album_df[[\"name\", \"id\"]], how = \"inner\", on = \"id\")"
   ]
  },
  {
   "cell_type": "code",
   "execution_count": 144,
   "id": "8f5ad007-ecd4-4524-98c5-9087ed1b238b",
   "metadata": {},
   "outputs": [
    {
     "data": {
      "text/html": [
       "<div>\n",
       "<style scoped>\n",
       "    .dataframe tbody tr th:only-of-type {\n",
       "        vertical-align: middle;\n",
       "    }\n",
       "\n",
       "    .dataframe tbody tr th {\n",
       "        vertical-align: top;\n",
       "    }\n",
       "\n",
       "    .dataframe thead th {\n",
       "        text-align: right;\n",
       "    }\n",
       "</style>\n",
       "<table border=\"1\" class=\"dataframe\">\n",
       "  <thead>\n",
       "    <tr style=\"text-align: right;\">\n",
       "      <th></th>\n",
       "      <th>danceability</th>\n",
       "      <th>energy</th>\n",
       "      <th>key</th>\n",
       "      <th>loudness</th>\n",
       "      <th>mode</th>\n",
       "      <th>speechiness</th>\n",
       "      <th>acousticness</th>\n",
       "      <th>instrumentalness</th>\n",
       "      <th>liveness</th>\n",
       "      <th>valence</th>\n",
       "      <th>tempo</th>\n",
       "      <th>type</th>\n",
       "      <th>id</th>\n",
       "      <th>uri</th>\n",
       "      <th>track_href</th>\n",
       "      <th>analysis_url</th>\n",
       "      <th>duration_ms</th>\n",
       "      <th>time_signature</th>\n",
       "      <th>name</th>\n",
       "    </tr>\n",
       "  </thead>\n",
       "  <tbody>\n",
       "    <tr>\n",
       "      <th>0</th>\n",
       "      <td>0.583</td>\n",
       "      <td>0.192</td>\n",
       "      <td>5</td>\n",
       "      <td>-12.578</td>\n",
       "      <td>0</td>\n",
       "      <td>0.0390</td>\n",
       "      <td>0.959</td>\n",
       "      <td>0.2600</td>\n",
       "      <td>0.1180</td>\n",
       "      <td>0.0398</td>\n",
       "      <td>75.534</td>\n",
       "      <td>audio_features</td>\n",
       "      <td>1axXy2bgUSeEN7h6Ob9Qbo</td>\n",
       "      <td>spotify:track:1axXy2bgUSeEN7h6Ob9Qbo</td>\n",
       "      <td>https://api.spotify.com/v1/tracks/1axXy2bgUSeE...</td>\n",
       "      <td>https://api.spotify.com/v1/audio-analysis/1axX...</td>\n",
       "      <td>256156</td>\n",
       "      <td>4</td>\n",
       "      <td>Famous Last Words</td>\n",
       "    </tr>\n",
       "    <tr>\n",
       "      <th>1</th>\n",
       "      <td>0.645</td>\n",
       "      <td>0.435</td>\n",
       "      <td>6</td>\n",
       "      <td>-9.872</td>\n",
       "      <td>1</td>\n",
       "      <td>0.0500</td>\n",
       "      <td>0.900</td>\n",
       "      <td>0.0141</td>\n",
       "      <td>0.0943</td>\n",
       "      <td>0.2120</td>\n",
       "      <td>143.984</td>\n",
       "      <td>audio_features</td>\n",
       "      <td>5LriwAnVbywAjj9oGi1Dno</td>\n",
       "      <td>spotify:track:5LriwAnVbywAjj9oGi1Dno</td>\n",
       "      <td>https://api.spotify.com/v1/tracks/5LriwAnVbywA...</td>\n",
       "      <td>https://api.spotify.com/v1/audio-analysis/5Lri...</td>\n",
       "      <td>199639</td>\n",
       "      <td>4</td>\n",
       "      <td>Life Is Not The Same</td>\n",
       "    </tr>\n",
       "    <tr>\n",
       "      <th>2</th>\n",
       "      <td>0.653</td>\n",
       "      <td>0.496</td>\n",
       "      <td>10</td>\n",
       "      <td>-7.262</td>\n",
       "      <td>0</td>\n",
       "      <td>0.0868</td>\n",
       "      <td>0.625</td>\n",
       "      <td>0.2740</td>\n",
       "      <td>0.1510</td>\n",
       "      <td>0.1020</td>\n",
       "      <td>86.013</td>\n",
       "      <td>audio_features</td>\n",
       "      <td>2pSsHnjAgEPjHmet7ChlHQ</td>\n",
       "      <td>spotify:track:2pSsHnjAgEPjHmet7ChlHQ</td>\n",
       "      <td>https://api.spotify.com/v1/tracks/2pSsHnjAgEPj...</td>\n",
       "      <td>https://api.spotify.com/v1/audio-analysis/2pSs...</td>\n",
       "      <td>195905</td>\n",
       "      <td>4</td>\n",
       "      <td>Coming Back (feat. SZA)</td>\n",
       "    </tr>\n",
       "  </tbody>\n",
       "</table>\n",
       "</div>"
      ],
      "text/plain": [
       "   danceability  energy  key  loudness  mode  speechiness  acousticness  \\\n",
       "0         0.583   0.192    5   -12.578     0       0.0390         0.959   \n",
       "1         0.645   0.435    6    -9.872     1       0.0500         0.900   \n",
       "2         0.653   0.496   10    -7.262     0       0.0868         0.625   \n",
       "\n",
       "   instrumentalness  liveness  valence    tempo            type  \\\n",
       "0            0.2600    0.1180   0.0398   75.534  audio_features   \n",
       "1            0.0141    0.0943   0.2120  143.984  audio_features   \n",
       "2            0.2740    0.1510   0.1020   86.013  audio_features   \n",
       "\n",
       "                       id                                   uri  \\\n",
       "0  1axXy2bgUSeEN7h6Ob9Qbo  spotify:track:1axXy2bgUSeEN7h6Ob9Qbo   \n",
       "1  5LriwAnVbywAjj9oGi1Dno  spotify:track:5LriwAnVbywAjj9oGi1Dno   \n",
       "2  2pSsHnjAgEPjHmet7ChlHQ  spotify:track:2pSsHnjAgEPjHmet7ChlHQ   \n",
       "\n",
       "                                          track_href  \\\n",
       "0  https://api.spotify.com/v1/tracks/1axXy2bgUSeE...   \n",
       "1  https://api.spotify.com/v1/tracks/5LriwAnVbywA...   \n",
       "2  https://api.spotify.com/v1/tracks/2pSsHnjAgEPj...   \n",
       "\n",
       "                                        analysis_url  duration_ms  \\\n",
       "0  https://api.spotify.com/v1/audio-analysis/1axX...       256156   \n",
       "1  https://api.spotify.com/v1/audio-analysis/5Lri...       199639   \n",
       "2  https://api.spotify.com/v1/audio-analysis/2pSs...       195905   \n",
       "\n",
       "   time_signature                     name  \n",
       "0               4        Famous Last Words  \n",
       "1               4     Life Is Not The Same  \n",
       "2               4  Coming Back (feat. SZA)  "
      ]
     },
     "execution_count": 144,
     "metadata": {},
     "output_type": "execute_result"
    }
   ],
   "source": [
    "friends_df.head(3)"
   ]
  },
  {
   "cell_type": "code",
   "execution_count": 145,
   "id": "4ad78c69-e98b-4d8f-aaac-9b8bf29d4889",
   "metadata": {},
   "outputs": [
    {
     "data": {
      "text/html": [
       "<div>\n",
       "<style scoped>\n",
       "    .dataframe tbody tr th:only-of-type {\n",
       "        vertical-align: middle;\n",
       "    }\n",
       "\n",
       "    .dataframe tbody tr th {\n",
       "        vertical-align: top;\n",
       "    }\n",
       "\n",
       "    .dataframe thead th {\n",
       "        text-align: right;\n",
       "    }\n",
       "</style>\n",
       "<table border=\"1\" class=\"dataframe\">\n",
       "  <thead>\n",
       "    <tr style=\"text-align: right;\">\n",
       "      <th></th>\n",
       "      <th>danceability</th>\n",
       "      <th>energy</th>\n",
       "      <th>key</th>\n",
       "      <th>loudness</th>\n",
       "      <th>mode</th>\n",
       "      <th>speechiness</th>\n",
       "      <th>acousticness</th>\n",
       "      <th>instrumentalness</th>\n",
       "      <th>liveness</th>\n",
       "      <th>valence</th>\n",
       "      <th>tempo</th>\n",
       "      <th>type</th>\n",
       "      <th>id</th>\n",
       "      <th>uri</th>\n",
       "      <th>track_href</th>\n",
       "      <th>analysis_url</th>\n",
       "      <th>duration_ms</th>\n",
       "      <th>time_signature</th>\n",
       "      <th>name</th>\n",
       "    </tr>\n",
       "  </thead>\n",
       "  <tbody>\n",
       "    <tr>\n",
       "      <th>0</th>\n",
       "      <td>0.548</td>\n",
       "      <td>0.412</td>\n",
       "      <td>2</td>\n",
       "      <td>-7.398</td>\n",
       "      <td>1</td>\n",
       "      <td>0.0736</td>\n",
       "      <td>0.852</td>\n",
       "      <td>0.6110</td>\n",
       "      <td>0.0854</td>\n",
       "      <td>0.151</td>\n",
       "      <td>114.928</td>\n",
       "      <td>audio_features</td>\n",
       "      <td>42Z8moYh30XOVffltDDUgK</td>\n",
       "      <td>spotify:track:42Z8moYh30XOVffltDDUgK</td>\n",
       "      <td>https://api.spotify.com/v1/tracks/42Z8moYh30XO...</td>\n",
       "      <td>https://api.spotify.com/v1/audio-analysis/42Z8...</td>\n",
       "      <td>183293</td>\n",
       "      <td>4</td>\n",
       "      <td>Sound &amp; Color</td>\n",
       "    </tr>\n",
       "    <tr>\n",
       "      <th>1</th>\n",
       "      <td>0.606</td>\n",
       "      <td>0.915</td>\n",
       "      <td>10</td>\n",
       "      <td>-3.292</td>\n",
       "      <td>0</td>\n",
       "      <td>0.1660</td>\n",
       "      <td>0.259</td>\n",
       "      <td>0.1070</td>\n",
       "      <td>0.1050</td>\n",
       "      <td>0.551</td>\n",
       "      <td>100.433</td>\n",
       "      <td>audio_features</td>\n",
       "      <td>6q0lIjDSuZDhrg9GC9yUQO</td>\n",
       "      <td>spotify:track:6q0lIjDSuZDhrg9GC9yUQO</td>\n",
       "      <td>https://api.spotify.com/v1/tracks/6q0lIjDSuZDh...</td>\n",
       "      <td>https://api.spotify.com/v1/audio-analysis/6q0l...</td>\n",
       "      <td>232547</td>\n",
       "      <td>4</td>\n",
       "      <td>Don't Wanna Fight</td>\n",
       "    </tr>\n",
       "    <tr>\n",
       "      <th>2</th>\n",
       "      <td>0.381</td>\n",
       "      <td>0.599</td>\n",
       "      <td>8</td>\n",
       "      <td>-6.051</td>\n",
       "      <td>1</td>\n",
       "      <td>0.0417</td>\n",
       "      <td>0.680</td>\n",
       "      <td>0.0187</td>\n",
       "      <td>0.1360</td>\n",
       "      <td>0.396</td>\n",
       "      <td>76.579</td>\n",
       "      <td>audio_features</td>\n",
       "      <td>4KyABIdjDKix5Ld0jFeATw</td>\n",
       "      <td>spotify:track:4KyABIdjDKix5Ld0jFeATw</td>\n",
       "      <td>https://api.spotify.com/v1/tracks/4KyABIdjDKix...</td>\n",
       "      <td>https://api.spotify.com/v1/audio-analysis/4KyA...</td>\n",
       "      <td>257920</td>\n",
       "      <td>4</td>\n",
       "      <td>Dunes</td>\n",
       "    </tr>\n",
       "  </tbody>\n",
       "</table>\n",
       "</div>"
      ],
      "text/plain": [
       "   danceability  energy  key  loudness  mode  speechiness  acousticness  \\\n",
       "0         0.548   0.412    2    -7.398     1       0.0736         0.852   \n",
       "1         0.606   0.915   10    -3.292     0       0.1660         0.259   \n",
       "2         0.381   0.599    8    -6.051     1       0.0417         0.680   \n",
       "\n",
       "   instrumentalness  liveness  valence    tempo            type  \\\n",
       "0            0.6110    0.0854    0.151  114.928  audio_features   \n",
       "1            0.1070    0.1050    0.551  100.433  audio_features   \n",
       "2            0.0187    0.1360    0.396   76.579  audio_features   \n",
       "\n",
       "                       id                                   uri  \\\n",
       "0  42Z8moYh30XOVffltDDUgK  spotify:track:42Z8moYh30XOVffltDDUgK   \n",
       "1  6q0lIjDSuZDhrg9GC9yUQO  spotify:track:6q0lIjDSuZDhrg9GC9yUQO   \n",
       "2  4KyABIdjDKix5Ld0jFeATw  spotify:track:4KyABIdjDKix5Ld0jFeATw   \n",
       "\n",
       "                                          track_href  \\\n",
       "0  https://api.spotify.com/v1/tracks/42Z8moYh30XO...   \n",
       "1  https://api.spotify.com/v1/tracks/6q0lIjDSuZDh...   \n",
       "2  https://api.spotify.com/v1/tracks/4KyABIdjDKix...   \n",
       "\n",
       "                                        analysis_url  duration_ms  \\\n",
       "0  https://api.spotify.com/v1/audio-analysis/42Z8...       183293   \n",
       "1  https://api.spotify.com/v1/audio-analysis/6q0l...       232547   \n",
       "2  https://api.spotify.com/v1/audio-analysis/4KyA...       257920   \n",
       "\n",
       "   time_signature               name  \n",
       "0               4      Sound & Color  \n",
       "1               4  Don't Wanna Fight  \n",
       "2               4              Dunes  "
      ]
     },
     "execution_count": 145,
     "metadata": {},
     "output_type": "execute_result"
    }
   ],
   "source": [
    "sound_color_df.head(3)"
   ]
  },
  {
   "cell_type": "markdown",
   "id": "9e53ffe8-415a-42a2-bce8-c0fbac6573c9",
   "metadata": {},
   "source": [
    "\n",
    "------------\n",
    "\n",
    "\n",
    "#### The two audio features that best represent *Friends That Break Your Heart* by James Blake and *Sound & Color* by Alabama Shakes are valence and energy.\n",
    "\n",
    "The valence is \"a measure from 0.0 to 1.0 describing the musical positiveness conveyed by a track. Tracks with high valence sound more positive (e.g. happy, cheerful, euphoric), while tracks with low valence sound more negative (e.g. sad, depressed, angry).\" *Friends That Break Your Heart* has an amazing balance of negative and positive emotions. It's not just a whole album of betrayal and confusion, it has break throughs and growth in it. *Sound & Color* is emotionally charged through both the singer and the instrumental elements of the band.\n",
    "\n",
    "The energy is \"a measure from 0.0 to 1.0 and represents a perceptual measure of intensity and activity. Typically, energetic tracks feel fast, loud, and noisy. For example, death metal has high energy, while a Bach prelude scores low on the scale. Perceptual features contributing to this attribute include dynamic range, perceived loudness, timbre, onset rate, and general entropy.\" The energy of James Blake's music tends to be moody due to the topics. Since Alabama Shakes is a rock-y band, the energy of the album is noticeable and makes you feel energized."
   ]
  },
  {
   "cell_type": "markdown",
   "id": "8305a9b7-17b1-469b-9625-5e9b2939aaa3",
   "metadata": {},
   "source": [
    "#### Histograms of the valence and energy comparison between the two albums.\n",
    "#### - *Friends That Break Your Heart* has an overall **lower valence**, more negative due to the nature of the messages in the album. *Sound and Color* has a **higher valence**, a more upbeat, positive sound. \n",
    "\n",
    "#### - Similarly, *Friends That Break Your Heart* has an overall **lower energy**, meaning it is perceived as lower intensity. *Sound & Color* is **more energetic and noisy**.\n",
    "\n",
    "#### These two albums are quite **different** from one another."
   ]
  },
  {
   "cell_type": "code",
   "execution_count": 146,
   "id": "8417d847-e004-4a9c-ad20-c6c4a44e30bb",
   "metadata": {},
   "outputs": [
    {
     "data": {
      "image/png": "[encoded data removed]",
      "text/plain": [
       "<Figure size 800x600 with 2 Axes>"
      ]
     },
     "metadata": {},
     "output_type": "display_data"
    }
   ],
   "source": [
    "#Valence\n",
    "fig1, ax1 = plt.subplots(2, figsize=(8, 6))\n",
    "\n",
    "ax1[0].set_title(\"Valence Comparison\")\n",
    "ax1[0].set_xlabel(\"Valence\")\n",
    "ax1[0].hist(friends_df[\"valence\"], range = (0, 1), color = \"yellowgreen\")\n",
    "ax1[0].hist(sound_color_df[\"valence\"], range = (0, 1), color = \"indianred\", alpha = 0.8)\n",
    "ax1[0].set_frame_on(False)\n",
    "\n",
    "#Energy\n",
    "ax1[1].set_title(\"Energy Comparison\")\n",
    "ax1[1].set_xlabel(\"Energy\")\n",
    "ax1[1].hist(friends_df[\"energy\"], range = (0, 1), color = \"yellowgreen\")\n",
    "ax1[1].hist(sound_color_df[\"energy\"], range = (0, 1), color = \"indianred\", alpha = 0.8)\n",
    "ax1[1].set_frame_on(False)\n",
    "\n",
    "fig1.tight_layout()\n",
    "plt.show()"
   ]
  },
  {
   "cell_type": "markdown",
   "id": "b9ab7741-e974-40c3-ad48-5ea8396c356c",
   "metadata": {},
   "source": [
    "#### Scatter plot of valence and energy relationship within each album.\n",
    "\n",
    "In *Sound & Color* there is a positive correlation in energy and valence once the valence hits 0.3 on the 0-1 scale. There doesn't seem to be a pattern in *Friends That Break Your Heart*"
   ]
  },
  {
   "cell_type": "code",
   "execution_count": 147,
   "id": "04bf8c64-6830-4bac-871b-f9081d5a32c4",
   "metadata": {},
   "outputs": [
    {
     "data": {
      "image/png": "[encoded data removed]",
      "text/plain": [
       "<Figure size 800x600 with 2 Axes>"
      ]
     },
     "metadata": {},
     "output_type": "display_data"
    }
   ],
   "source": [
    "fig2, ax2 = plt.subplots(2, figsize = (8,6))\n",
    "\n",
    "ax2[0].scatter(x = friends_df[\"valence\"], y = friends_df[\"energy\"], color = \"yellowgreen\")\n",
    "ax2[0].set_xlabel(\"Valence\")\n",
    "ax2[0].set_ylabel(\"Energy\")\n",
    "ax2[0].set_title(\"Friends That Break Your Heart Valence by Energy\")\n",
    "ax2[0].set_frame_on(False)\n",
    "\n",
    "ax2[1].scatter(x = sound_color_df[\"valence\"], y = sound_color_df[\"energy\"], color = \"indianred\")\n",
    "ax2[1].set_xlabel(\"Valence\")\n",
    "ax2[1].set_ylabel(\"Energy\")\n",
    "ax2[1].set_title(\"Sound & Color Valence by Energy\")\n",
    "ax2[1].set_frame_on(False)\n",
    "\n",
    "fig2.tight_layout()\n",
    "plt.show()"
   ]
  },
  {
   "cell_type": "markdown",
   "id": "e7ad7a0c-c32e-4923-ab54-9243b5fd7b69",
   "metadata": {},
   "source": [
    "#### Scatter plot of valence and energy on both albums.\n",
    "You can notice how *Friends That Break Your Heart* has an overall lower scale of energy and valence."
   ]
  },
  {
   "cell_type": "code",
   "execution_count": 148,
   "id": "bbf1e538-abf1-440d-9c2d-1ef18ab9f6e3",
   "metadata": {},
   "outputs": [
    {
     "data": {
      "image/png": "[encoded data removed]",
      "text/plain": [
       "<Figure size 800x600 with 1 Axes>"
      ]
     },
     "metadata": {},
     "output_type": "display_data"
    }
   ],
   "source": [
    "fig3, ax3 = plt.subplots(figsize = (8,6))\n",
    "\n",
    "ax3.scatter(x = friends_df[\"valence\"], y = friends_df[\"energy\"], color = \"yellowgreen\")\n",
    "ax3.scatter(x = sound_color_df[\"valence\"], y = sound_color_df[\"energy\"], color = \"indianred\")\n",
    "\n",
    "ax3.set_xlabel(\"Valence\")\n",
    "ax3.set_ylabel(\"Energy\")\n",
    "ax3.legend([\"Friends That Break Your Heart: James Blake\", \"Sound & Color: Alabama Shakes\"], title = \"Album: Artist\", loc = \"best\")\n",
    "ax3.set_frame_on(False)\n",
    "fig3.tight_layout()\n",
    "plt.show()"
   ]
  },
  {
   "cell_type": "markdown",
   "id": "27339b9f-cc1d-49a0-85cc-b28807997045",
   "metadata": {},
   "source": [
    "#### Comparison of energy between *Friends That Break Your Heart* and *Sound & Color* using a scatter/boxplot\n",
    "The plot shows that when looking at just energy, almost all of the tracks on *Friends That Break Your Heart* falls within the lower half of *Sound & Color*'s energy scores. The latter album exceeds in energy."
   ]
  },
  {
   "cell_type": "code",
   "execution_count": 149,
   "id": "7a6f3656-e593-402a-b759-959ad44c1ddb",
   "metadata": {},
   "outputs": [
    {
     "data": {
      "image/png": "[encoded data removed]",
      "text/plain": [
       "<Figure size 640x480 with 1 Axes>"
      ]
     },
     "metadata": {},
     "output_type": "display_data"
    }
   ],
   "source": [
    "fig4, ax4 = plt.subplots()\n",
    "\n",
    "ax4.boxplot([friends_df[\"energy\"], sound_color_df[\"energy\"]], tick_labels = (\"Friends That Break Your Heart\", \"Sound and Color\"))\n",
    "\n",
    "#jitter\n",
    "friends_xs = [1] * len(friends_df[\"energy\"])\n",
    "sound_color_xs = [2] * len(sound_color_df[\"energy\"])\n",
    "friends_x_jitter = np.random.uniform(-0.10, .10, len(friends_xs))\n",
    "sound_color_x_jitter = np.random.uniform(-.10, .10, len(sound_color_xs))\n",
    "\n",
    "ax4.scatter(x = friends_xs + friends_x_jitter, y = friends_df[\"energy\"], color = \"yellowgreen\", alpha = 0.7)\n",
    "ax4.scatter(x = sound_color_xs + sound_color_x_jitter, y = sound_color_df[\"energy\"], color = \"indianred\", alpha = 0.7)\n",
    "\n",
    "\n",
    "ax4.set_title(\"Energy Comparison Between 'Friends That Break Your Heart' and 'Sound & Color'\")\n",
    "ax4.set_frame_on(False)\n",
    "\n",
    "fig4.tight_layout()\n",
    "plt.show()"
   ]
  },
  {
   "cell_type": "markdown",
   "id": "44303cf7-d3e5-46b0-9bf4-3a1c6a201643",
   "metadata": {},
   "source": [
    "-------\n",
    "#### Statistical difference between energy and valence of *Friends That Break Your Heart* using the statsmodel's ols function.\n",
    "The ols model shows that the intercept for the relationship between energy and valence starts at 0.28 on the scale. Each time energy increases by 1, the valence increases by a factor of 0.43, showing a positive correlation. It's not very strong, but it is still positive.\n"
   ]
  },
  {
   "cell_type": "code",
   "execution_count": 150,
   "id": "9fa5d35e-ff84-4442-8f79-e7ae8a9cc0ee",
   "metadata": {},
   "outputs": [
    {
     "data": {
      "text/plain": [
       "DescribeResult(nobs=12, minmax=(0.147, 0.609), mean=0.3575, variance=0.02051372727272727, skewness=0.07079693652485652, kurtosis=-1.0008324214195379)"
      ]
     },
     "execution_count": 150,
     "metadata": {},
     "output_type": "execute_result"
    }
   ],
   "source": [
    "stats.describe(friends_df[\"energy\"])"
   ]
  },
  {
   "cell_type": "code",
   "execution_count": 151,
   "id": "039a762c-5305-4eb4-ab71-b7ebd6e8f078",
   "metadata": {},
   "outputs": [
    {
     "data": {
      "text/plain": [
       "DescribeResult(nobs=12, minmax=(0.0398, 0.491), mean=0.17445833333333335, variance=0.016705197196969696, skewness=1.2533652417726424, kurtosis=0.9798786432792888)"
      ]
     },
     "execution_count": 151,
     "metadata": {},
     "output_type": "execute_result"
    }
   ],
   "source": [
    "stats.describe(friends_df[\"valence\"])"
   ]
  },
  {
   "cell_type": "code",
   "execution_count": 152,
   "id": "aea3d82b-c7ec-4ba7-aefa-e70419d37dc2",
   "metadata": {},
   "outputs": [
    {
     "name": "stderr",
     "output_type": "stream",
     "text": [
      "/Users/biancaamoako/opt/anaconda3/envs/data_ematfa24/lib/python3.12/site-packages/scipy/stats/_stats_py.py:1971: UserWarning: kurtosistest only valid for n>=20 ... continuing anyway, n=12\n",
      "  k, _ = kurtosistest(a, axis)\n"
     ]
    },
    {
     "data": {
      "text/html": [
       "<table class=\"simpletable\">\n",
       "<caption>OLS Regression Results</caption>\n",
       "<tr>\n",
       "  <th>Dep. Variable:</th>         <td>energy</td>      <th>  R-squared:         </th> <td>   0.155</td>\n",
       "</tr>\n",
       "<tr>\n",
       "  <th>Model:</th>                   <td>OLS</td>       <th>  Adj. R-squared:    </th> <td>   0.071</td>\n",
       "</tr>\n",
       "<tr>\n",
       "  <th>Method:</th>             <td>Least Squares</td>  <th>  F-statistic:       </th> <td>   1.840</td>\n",
       "</tr>\n",
       "<tr>\n",
       "  <th>Date:</th>             <td>Thu, 21 Nov 2024</td> <th>  Prob (F-statistic):</th>  <td> 0.205</td> \n",
       "</tr>\n",
       "<tr>\n",
       "  <th>Time:</th>                 <td>21:36:15</td>     <th>  Log-Likelihood:    </th> <td>  7.8281</td>\n",
       "</tr>\n",
       "<tr>\n",
       "  <th>No. Observations:</th>      <td>    12</td>      <th>  AIC:               </th> <td>  -11.66</td>\n",
       "</tr>\n",
       "<tr>\n",
       "  <th>Df Residuals:</th>          <td>    10</td>      <th>  BIC:               </th> <td>  -10.69</td>\n",
       "</tr>\n",
       "<tr>\n",
       "  <th>Df Model:</th>              <td>     1</td>      <th>                     </th>     <td> </td>   \n",
       "</tr>\n",
       "<tr>\n",
       "  <th>Covariance Type:</th>      <td>nonrobust</td>    <th>                     </th>     <td> </td>   \n",
       "</tr>\n",
       "</table>\n",
       "<table class=\"simpletable\">\n",
       "<tr>\n",
       "      <td></td>         <th>coef</th>     <th>std err</th>      <th>t</th>      <th>P>|t|</th>  <th>[0.025</th>    <th>0.975]</th>  \n",
       "</tr>\n",
       "<tr>\n",
       "  <th>Intercept</th> <td>    0.2813</td> <td>    0.069</td> <td>    4.084</td> <td> 0.002</td> <td>    0.128</td> <td>    0.435</td>\n",
       "</tr>\n",
       "<tr>\n",
       "  <th>valence</th>   <td>    0.4368</td> <td>    0.322</td> <td>    1.356</td> <td> 0.205</td> <td>   -0.281</td> <td>    1.154</td>\n",
       "</tr>\n",
       "</table>\n",
       "<table class=\"simpletable\">\n",
       "<tr>\n",
       "  <th>Omnibus:</th>       <td> 2.536</td> <th>  Durbin-Watson:     </th> <td>   3.214</td>\n",
       "</tr>\n",
       "<tr>\n",
       "  <th>Prob(Omnibus):</th> <td> 0.281</td> <th>  Jarque-Bera (JB):  </th> <td>   0.971</td>\n",
       "</tr>\n",
       "<tr>\n",
       "  <th>Skew:</th>          <td> 0.045</td> <th>  Prob(JB):          </th> <td>   0.616</td>\n",
       "</tr>\n",
       "<tr>\n",
       "  <th>Kurtosis:</th>      <td> 1.610</td> <th>  Cond. No.          </th> <td>    8.33</td>\n",
       "</tr>\n",
       "</table><br/><br/>Notes:<br/>[1] Standard Errors assume that the covariance matrix of the errors is correctly specified."
      ],
      "text/latex": [
       "\\begin{center}\n",
       "\\begin{tabular}{lclc}\n",
       "\\toprule\n",
       "\\textbf{Dep. Variable:}    &      energy      & \\textbf{  R-squared:         } &     0.155   \\\\\n",
       "\\textbf{Model:}            &       OLS        & \\textbf{  Adj. R-squared:    } &     0.071   \\\\\n",
       "\\textbf{Method:}           &  Least Squares   & \\textbf{  F-statistic:       } &     1.840   \\\\\n",
       "\\textbf{Date:}             & Thu, 21 Nov 2024 & \\textbf{  Prob (F-statistic):} &    0.205    \\\\\n",
       "\\textbf{Time:}             &     21:36:15     & \\textbf{  Log-Likelihood:    } &    7.8281   \\\\\n",
       "\\textbf{No. Observations:} &          12      & \\textbf{  AIC:               } &    -11.66   \\\\\n",
       "\\textbf{Df Residuals:}     &          10      & \\textbf{  BIC:               } &    -10.69   \\\\\n",
       "\\textbf{Df Model:}         &           1      & \\textbf{                     } &             \\\\\n",
       "\\textbf{Covariance Type:}  &    nonrobust     & \\textbf{                     } &             \\\\\n",
       "\\bottomrule\n",
       "\\end{tabular}\n",
       "\\begin{tabular}{lcccccc}\n",
       "                   & \\textbf{coef} & \\textbf{std err} & \\textbf{t} & \\textbf{P$> |$t$|$} & \\textbf{[0.025} & \\textbf{0.975]}  \\\\\n",
       "\\midrule\n",
       "\\textbf{Intercept} &       0.2813  &        0.069     &     4.084  &         0.002        &        0.128    &        0.435     \\\\\n",
       "\\textbf{valence}   &       0.4368  &        0.322     &     1.356  &         0.205        &       -0.281    &        1.154     \\\\\n",
       "\\bottomrule\n",
       "\\end{tabular}\n",
       "\\begin{tabular}{lclc}\n",
       "\\textbf{Omnibus:}       &  2.536 & \\textbf{  Durbin-Watson:     } &    3.214  \\\\\n",
       "\\textbf{Prob(Omnibus):} &  0.281 & \\textbf{  Jarque-Bera (JB):  } &    0.971  \\\\\n",
       "\\textbf{Skew:}          &  0.045 & \\textbf{  Prob(JB):          } &    0.616  \\\\\n",
       "\\textbf{Kurtosis:}      &  1.610 & \\textbf{  Cond. No.          } &     8.33  \\\\\n",
       "\\bottomrule\n",
       "\\end{tabular}\n",
       "%\\caption{OLS Regression Results}\n",
       "\\end{center}\n",
       "\n",
       "Notes: \\newline\n",
       " [1] Standard Errors assume that the covariance matrix of the errors is correctly specified."
      ],
      "text/plain": [
       "<class 'statsmodels.iolib.summary.Summary'>\n",
       "\"\"\"\n",
       "                            OLS Regression Results                            \n",
       "==============================================================================\n",
       "Dep. Variable:                 energy   R-squared:                       0.155\n",
       "Model:                            OLS   Adj. R-squared:                  0.071\n",
       "Method:                 Least Squares   F-statistic:                     1.840\n",
       "Date:                Thu, 21 Nov 2024   Prob (F-statistic):              0.205\n",
       "Time:                        21:36:15   Log-Likelihood:                 7.8281\n",
       "No. Observations:                  12   AIC:                            -11.66\n",
       "Df Residuals:                      10   BIC:                            -10.69\n",
       "Df Model:                           1                                         \n",
       "Covariance Type:            nonrobust                                         \n",
       "==============================================================================\n",
       "                 coef    std err          t      P>|t|      [0.025      0.975]\n",
       "------------------------------------------------------------------------------\n",
       "Intercept      0.2813      0.069      4.084      0.002       0.128       0.435\n",
       "valence        0.4368      0.322      1.356      0.205      -0.281       1.154\n",
       "==============================================================================\n",
       "Omnibus:                        2.536   Durbin-Watson:                   3.214\n",
       "Prob(Omnibus):                  0.281   Jarque-Bera (JB):                0.971\n",
       "Skew:                           0.045   Prob(JB):                        0.616\n",
       "Kurtosis:                       1.610   Cond. No.                         8.33\n",
       "==============================================================================\n",
       "\n",
       "Notes:\n",
       "[1] Standard Errors assume that the covariance matrix of the errors is correctly specified.\n",
       "\"\"\""
      ]
     },
     "execution_count": 152,
     "metadata": {},
     "output_type": "execute_result"
    }
   ],
   "source": [
    "fit1 = smf.ols(\"energy ~ valence\", data = friends_df).fit()\n",
    "fit1.summary()"
   ]
  },
  {
   "cell_type": "markdown",
   "id": "2daad4bc-7a62-453a-8bdd-2b0221469337",
   "metadata": {},
   "source": [
    "#### The graph below shows the relationship between energy and valence throguh a scatter plot and a linear regression line. The correlation is quite strong and positive but there is an outlier that is effecting the regression line's position. "
   ]
  },
  {
   "cell_type": "code",
   "execution_count": 153,
   "id": "7141b759-64c7-45b2-93e1-2c482f1c74aa",
   "metadata": {},
   "outputs": [
    {
     "data": {
      "image/png": "[encoded data removed]",
      "text/plain": [
       "<Figure size 640x480 with 1 Axes>"
      ]
     },
     "metadata": {},
     "output_type": "display_data"
    }
   ],
   "source": [
    "fig5, ax5 = plt.subplots()\n",
    "x = friends_df[\"energy\"]\n",
    "y = friends_df[\"valence\"]\n",
    "\n",
    "#scatter plot from matplotlib\n",
    "ax5.scatter(x, y, color = \"yellowgreen\")\n",
    "ax5.set_xlabel(\"energy\")\n",
    "ax5.set_ylabel(\"valence\")\n",
    "\n",
    "#linear regression line using numpy.polyfit()\n",
    "m, b = np.polyfit(x, y, 1)\n",
    "ax5.plot(x, m*x + b, color = \"crimson\")\n",
    "\n",
    "ax5.set_title(\"Correlation Between Energy and Valence in Friends That Break Your Heart by James Blake\")\n",
    "ax5.set_frame_on(False)\n",
    "fig5.tight_layout()\n",
    "plt.show()"
   ]
  },
  {
   "cell_type": "markdown",
   "id": "ad1a9a3f-0652-430f-bb36-ad7f1c5b483b",
   "metadata": {},
   "source": [
    "#### The song that is the outlier in the graph above is [\"I'm So Blessed Your Mine\"](https://www.youtube.com/watch?v=ZMNCImLfnQ4&pp=ygUnaSdtIHNvIGJsZXNzZWQgeW91J3JlIG1pbmUgamFtZXMgYmxha2Ug) with the highest valence of the whole album. "
   ]
  },
  {
   "cell_type": "code",
   "execution_count": 154,
   "id": "51556aed-ae96-4c78-948b-9f3acace581c",
   "metadata": {},
   "outputs": [
    {
     "data": {
      "text/plain": [
       "5    I'm So Blessed You're Mine\n",
       "Name: name, dtype: object"
      ]
     },
     "execution_count": 154,
     "metadata": {},
     "output_type": "execute_result"
    }
   ],
   "source": [
    "friends_df[friends_df[\"valence\"] > 0.4][\"name\"]"
   ]
  },
  {
   "cell_type": "markdown",
   "id": "d1d1f05f-acbe-4eeb-bc0c-794d854f4747",
   "metadata": {},
   "source": [
    "-----\n",
    "#### Sentiment analysis is always helpful to get a better idea of how lyrics impact feature scores. Also, there are usually less than twenty songs on an album and each album is a stand alone obeservation, each track can also be a stand alone observation.\n",
    "#### Further steps can include focusing on one artist and tracking patterns within their discography. How often is James Blake's music on the lower end of scales in terms of energy and valence? Is there a period of time or album that goes against a pattern? Similarly, how has each artist changed/evolved over time based on the audio features of their albums?"
   ]
  }
 ],
 "metadata": {
  "kernelspec": {
   "display_name": "Python 3 (ipykernel)",
   "language": "python",
   "name": "python3"
  },
  "language_info": {
   "codemirror_mode": {
    "name": "ipython",
    "version": 3
   },
   "file_extension": ".py",
   "mimetype": "text/x-python",
   "name": "python",
   "nbconvert_exporter": "python",
   "pygments_lexer": "ipython3",
   "version": "3.12.4"
  }
 },
 "nbformat": 4,
 "nbformat_minor": 5
}
