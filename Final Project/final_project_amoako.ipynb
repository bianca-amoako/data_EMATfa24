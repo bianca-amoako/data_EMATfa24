{
 "cells": [
  {
   "cell_type": "markdown",
   "id": "6fe41fff-d94d-4539-9b8c-f492e6ab9bc8",
   "metadata": {},
   "source": [
    "### Final Project\n",
    "#### Bianca Amoako\n",
    "#### 11/22/2024"
   ]
  },
  {
   "cell_type": "markdown",
   "id": "7835bbdf-dada-432d-bb94-ef5fef4ef097",
   "metadata": {},
   "source": [
    "I am interested in looking at the data available from the youth prisons in Ohio. Underneath the [Ohio Department of Youth Services](https://dys.ohio.gov/wps/portal/gov/dys/home), there are three youth prisons in Ohio that are accredited by the American Correctional Association. The three facilities are:\n",
    "-  Cuyahoga Hills Juvenile Correctional Facility (CHJCF)\n",
    "-  Indian River Juvenile Correctional Facility (IRJCF)\n",
    "-  Circleville Juvenile Correctional Facility (CJCF)\n",
    "\n",
    "All three facilities serve only male youth and have a variety of programs to reform the youth population admitted."
   ]
  },
  {
   "cell_type": "markdown",
   "id": "76ae9ad7-901e-4f8b-b91b-38fcabeb9b02",
   "metadata": {},
   "source": [
    "![](map_facilities.png)"
   ]
  },
  {
   "cell_type": "markdown",
   "id": "017022df-60b2-4661-9c47-c272bd0cf5ab",
   "metadata": {},
   "source": [
    "---\n",
    "#### DataOhio dataset [Youth Services Current Facility Population](https://data.ohio.gov/wps/portal/gov/data/view/youth-services-current-facility-population?visualize=true) \n",
    "This data shows the current population (as of November 22, 2024) of all of the correctional facilities in Ohio. I selected the three youth prisons and their race break down and exported it as a pdf file, which was the only option for the data on DataOhio. To convert the pdfs to csv files I will use the tabula-py and the function .convert_into(). This will take the pdf file name and return a csv file to my directory. I will turn those csv files into a Pandas DataFrame using .DataFrame(pd.read_csv()) with the csv file from Tabula"
   ]
  },
  {
   "cell_type": "code",
   "execution_count": 263,
   "id": "a714b0f4-4086-4c41-b6fe-b79be55fd063",
   "metadata": {},
   "outputs": [],
   "source": [
    "import tabula\n",
    "import pandas as pd"
   ]
  },
  {
   "cell_type": "code",
   "execution_count": 264,
   "id": "7bab5e40-cef8-4c4d-ab97-960ed1eee441",
   "metadata": {},
   "outputs": [
    {
     "data": {
      "text/html": [
       "<div>\n",
       "<style scoped>\n",
       "    .dataframe tbody tr th:only-of-type {\n",
       "        vertical-align: middle;\n",
       "    }\n",
       "\n",
       "    .dataframe tbody tr th {\n",
       "        vertical-align: top;\n",
       "    }\n",
       "\n",
       "    .dataframe thead th {\n",
       "        text-align: right;\n",
       "    }\n",
       "</style>\n",
       "<table border=\"1\" class=\"dataframe\">\n",
       "  <thead>\n",
       "    <tr style=\"text-align: right;\">\n",
       "      <th></th>\n",
       "      <th>Race</th>\n",
       "      <th>Current Population</th>\n",
       "      <th>Facility</th>\n",
       "      <th>Total</th>\n",
       "    </tr>\n",
       "  </thead>\n",
       "  <tbody>\n",
       "    <tr>\n",
       "      <th>0</th>\n",
       "      <td>White</td>\n",
       "      <td>19</td>\n",
       "      <td>CHJCF</td>\n",
       "      <td>19</td>\n",
       "    </tr>\n",
       "    <tr>\n",
       "      <th>1</th>\n",
       "      <td>Black</td>\n",
       "      <td>153</td>\n",
       "      <td>CHJCF</td>\n",
       "      <td>172</td>\n",
       "    </tr>\n",
       "    <tr>\n",
       "      <th>2</th>\n",
       "      <td>Hispanic</td>\n",
       "      <td>7</td>\n",
       "      <td>CHJCF</td>\n",
       "      <td>179</td>\n",
       "    </tr>\n",
       "    <tr>\n",
       "      <th>3</th>\n",
       "      <td>Mixed-Race</td>\n",
       "      <td>5</td>\n",
       "      <td>CHJCF</td>\n",
       "      <td>184</td>\n",
       "    </tr>\n",
       "    <tr>\n",
       "      <th>4</th>\n",
       "      <td>Asian</td>\n",
       "      <td>1</td>\n",
       "      <td>CHJCF</td>\n",
       "      <td>185</td>\n",
       "    </tr>\n",
       "  </tbody>\n",
       "</table>\n",
       "</div>"
      ],
      "text/plain": [
       "         Race  Current Population Facility  Total\n",
       "0       White                  19    CHJCF     19\n",
       "1       Black                 153    CHJCF    172\n",
       "2    Hispanic                   7    CHJCF    179\n",
       "3  Mixed-Race                   5    CHJCF    184\n",
       "4       Asian                   1    CHJCF    185"
      ]
     },
     "execution_count": 264,
     "metadata": {},
     "output_type": "execute_result"
    }
   ],
   "source": [
    "tabula.convert_into(\"cuyahoga_by_race.pdf\", \"cuya_by_race.csv\", output_format=\"csv\", pages='all')\n",
    "cuyah_race_df = pd.DataFrame(pd.read_csv(\"cuya_by_race.csv\"))\n",
    "#tidy\n",
    "cuyah_race_df[\"Facility\"] = \"CHJCF\"\n",
    "cuyah_race_df.loc[3, \"Race\"] = \"Mixed-Race\"\n",
    "cuyah_race_df = cuyah_race_df.drop(5)\n",
    "cuyah_race_df = cuyah_race_df.rename(columns={\"Current\\rPopulation\": \"Current Population\"})\n",
    "cuyah_race_df"
   ]
  },
  {
   "cell_type": "code",
   "execution_count": 265,
   "id": "9ae581d9-7eaf-4637-95b3-f5f907f71b7a",
   "metadata": {},
   "outputs": [
    {
     "data": {
      "text/html": [
       "<div>\n",
       "<style scoped>\n",
       "    .dataframe tbody tr th:only-of-type {\n",
       "        vertical-align: middle;\n",
       "    }\n",
       "\n",
       "    .dataframe tbody tr th {\n",
       "        vertical-align: top;\n",
       "    }\n",
       "\n",
       "    .dataframe thead th {\n",
       "        text-align: right;\n",
       "    }\n",
       "</style>\n",
       "<table border=\"1\" class=\"dataframe\">\n",
       "  <thead>\n",
       "    <tr style=\"text-align: right;\">\n",
       "      <th></th>\n",
       "      <th>Race</th>\n",
       "      <th>Current Population</th>\n",
       "      <th>Facility</th>\n",
       "      <th>Total</th>\n",
       "    </tr>\n",
       "  </thead>\n",
       "  <tbody>\n",
       "    <tr>\n",
       "      <th>0</th>\n",
       "      <td>White</td>\n",
       "      <td>28</td>\n",
       "      <td>IRJCF</td>\n",
       "      <td>28</td>\n",
       "    </tr>\n",
       "    <tr>\n",
       "      <th>1</th>\n",
       "      <td>Black</td>\n",
       "      <td>113</td>\n",
       "      <td>IRJCF</td>\n",
       "      <td>141</td>\n",
       "    </tr>\n",
       "    <tr>\n",
       "      <th>2</th>\n",
       "      <td>Hispanic</td>\n",
       "      <td>8</td>\n",
       "      <td>IRJCF</td>\n",
       "      <td>149</td>\n",
       "    </tr>\n",
       "    <tr>\n",
       "      <th>3</th>\n",
       "      <td>Mixed-Race</td>\n",
       "      <td>5</td>\n",
       "      <td>IRJCF</td>\n",
       "      <td>154</td>\n",
       "    </tr>\n",
       "    <tr>\n",
       "      <th>4</th>\n",
       "      <td>American Indian</td>\n",
       "      <td>1</td>\n",
       "      <td>IRJCF</td>\n",
       "      <td>155</td>\n",
       "    </tr>\n",
       "  </tbody>\n",
       "</table>\n",
       "</div>"
      ],
      "text/plain": [
       "              Race  Current Population Facility  Total\n",
       "0            White                  28    IRJCF     28\n",
       "1            Black                 113    IRJCF    141\n",
       "2         Hispanic                   8    IRJCF    149\n",
       "3       Mixed-Race                   5    IRJCF    154\n",
       "4  American Indian                   1    IRJCF    155"
      ]
     },
     "execution_count": 265,
     "metadata": {},
     "output_type": "execute_result"
    }
   ],
   "source": [
    "tabula.convert_into(\"indian_river_by_race.pdf\", \"indian_by_race.csv\", output_format=\"csv\", pages='all')\n",
    "indian_race_df = pd.DataFrame(pd.read_csv(\"indian_by_race.csv\"))\n",
    "#tidy\n",
    "indian_race_df[\"Facility\"] = \"IRJCF\"\n",
    "indian_race_df.loc[4, \"Race\"] = \"American Indian\"\n",
    "indian_race_df = indian_race_df.drop(5)\n",
    "indian_race_df = indian_race_df.rename(columns={\"Current\\rPopulation\": \"Current Population\"})\n",
    "indian_race_df"
   ]
  },
  {
   "cell_type": "code",
   "execution_count": 266,
   "id": "608ffa25-b6ae-4da9-96df-bf8b827f04c5",
   "metadata": {},
   "outputs": [
    {
     "data": {
      "text/html": [
       "<div>\n",
       "<style scoped>\n",
       "    .dataframe tbody tr th:only-of-type {\n",
       "        vertical-align: middle;\n",
       "    }\n",
       "\n",
       "    .dataframe tbody tr th {\n",
       "        vertical-align: top;\n",
       "    }\n",
       "\n",
       "    .dataframe thead th {\n",
       "        text-align: right;\n",
       "    }\n",
       "</style>\n",
       "<table border=\"1\" class=\"dataframe\">\n",
       "  <thead>\n",
       "    <tr style=\"text-align: right;\">\n",
       "      <th></th>\n",
       "      <th>Race</th>\n",
       "      <th>Current Population</th>\n",
       "      <th>Facility</th>\n",
       "    </tr>\n",
       "  </thead>\n",
       "  <tbody>\n",
       "    <tr>\n",
       "      <th>0</th>\n",
       "      <td>White</td>\n",
       "      <td>30</td>\n",
       "      <td>CJCF</td>\n",
       "    </tr>\n",
       "    <tr>\n",
       "      <th>1</th>\n",
       "      <td>Black</td>\n",
       "      <td>107</td>\n",
       "      <td>CJCF</td>\n",
       "    </tr>\n",
       "    <tr>\n",
       "      <th>2</th>\n",
       "      <td>Hispanic</td>\n",
       "      <td>6</td>\n",
       "      <td>CJCF</td>\n",
       "    </tr>\n",
       "    <tr>\n",
       "      <th>3</th>\n",
       "      <td>Mixed-Race</td>\n",
       "      <td>2</td>\n",
       "      <td>CJCF</td>\n",
       "    </tr>\n",
       "    <tr>\n",
       "      <th>4</th>\n",
       "      <td>American Indian</td>\n",
       "      <td>2</td>\n",
       "      <td>CJCF</td>\n",
       "    </tr>\n",
       "  </tbody>\n",
       "</table>\n",
       "</div>"
      ],
      "text/plain": [
       "              Race  Current Population Facility\n",
       "0            White                  30     CJCF\n",
       "1            Black                 107     CJCF\n",
       "2         Hispanic                   6     CJCF\n",
       "3       Mixed-Race                   2     CJCF\n",
       "4  American Indian                   2     CJCF"
      ]
     },
     "execution_count": 266,
     "metadata": {},
     "output_type": "execute_result"
    }
   ],
   "source": [
    "tabula.convert_into(\"circleville_by_race.pdf\", \"circle_by_race.csv\", output_format=\"csv\", pages='all')\n",
    "circle_race_df = pd.DataFrame(pd.read_csv(\"circle_by_race.csv\"))\n",
    "#tidy\n",
    "circle_race_df[\"Facility\"] = \"CJCF\"\n",
    "circle_race_df.loc[4, \"Race\"] = \"American Indian\"\n",
    "circle_race_df = circle_race_df.drop(5)\n",
    "circle_race_df = circle_race_df.rename(columns={\"Current\\rPopulation\": \"Current Population\"})\n",
    "circle_race_df"
   ]
  },
  {
   "cell_type": "markdown",
   "id": "5018dc5f-404c-4194-8018-294a07a76861",
   "metadata": {},
   "source": [
    "#### Race Breakdown as Pie Charts\n",
    "To visualize the race breakdowns for the three youth prisons, I will use matplotlib's pie chart function .pie() and numpy to help generate colors from a pre-defined colormap."
   ]
  },
  {
   "cell_type": "code",
   "execution_count": 267,
   "id": "b502c6b5-d343-41fc-bf9a-715ef73adfef",
   "metadata": {},
   "outputs": [],
   "source": [
    "from matplotlib import pyplot as plt\n",
    "import numpy as np"
   ]
  },
  {
   "cell_type": "code",
   "execution_count": 268,
   "id": "d2205fb9-9436-4859-85a2-5a3b2d2b25d8",
   "metadata": {},
   "outputs": [
    {
     "data": {
      "image/png": "[encoded data removed]",
      "text/plain": [
       "<Figure size 1500x2000 with 3 Axes>"
      ]
     },
     "metadata": {},
     "output_type": "display_data"
    }
   ],
   "source": [
    "fig1, ax1 = plt.subplots(1,3, figsize = (15, 20))\n",
    "colors_ = plt.get_cmap('gist_stern')(np.linspace(0.2, 0.7, len(cuyah_race_df)))\n",
    "#Cuyahoga Pie\n",
    "ax1[0].pie(cuyah_race_df[\"Current Population\"], colors = colors_, autopct = '%1.1f%%', pctdistance = 1.15)\n",
    "ax1[0].set_title(\"Cuyahoga Hills JCF\")\n",
    "ax1[0].legend(cuyah_race_df[\"Race\"], loc = \"upper left\")\n",
    "\n",
    "#Indian River Pie\n",
    "ax1[1].pie(indian_race_df[\"Current Population\"], colors = colors_, autopct = '%1.1f%%', pctdistance = 1.15)\n",
    "ax1[1].set_title(\"Indian River JCF\")\n",
    "ax1[1].legend(indian_race_df[\"Race\"], loc = \"upper left\")\n",
    "\n",
    "\n",
    "#Circleville Pie\n",
    "ax1[2].pie(circle_race_df[\"Current Population\"], colors = colors_, autopct = '%1.1f%%', pctdistance = 1.15)\n",
    "ax1[2].set_title(\"Circleville JCF\")\n",
    "ax1[2].legend(circle_race_df[\"Race\"], loc = \"upper left\")\n",
    "\n",
    "fig1.tight_layout()\n",
    "plt.show()"
   ]
  },
  {
   "cell_type": "markdown",
   "id": "db291fd7-8765-45a3-a77d-e52a4b2104c0",
   "metadata": {},
   "source": [
    "#### There's clearly a much greater number of Black or African Americans admitted to these correctional facilities as shown in the pie charts above. \n",
    "#### Hypothesis: African American admissions have a majority offense that leads to their placements across the three youth prisons.\n",
    "-------\n",
    "#### DataOhio has a subset of up-to-date data files that describe how many of the youth are admitted due to sex offenses, gun offenses, and how long they've been in the facility for said offenses. \n",
    "In Ohio, a sexual offense is a crime that involves sexual conduct or the possession of illegal sexual material.\n",
    "In Ohio, a gun offense can be any illegal act involving a firearm. For example, possessing a gun without a permit or discharging a firearm in public. Minors are not allowed to possess guns."
   ]
  },
  {
   "cell_type": "markdown",
   "id": "cb1592f0-5c18-4e1e-9185-d35541a01e74",
   "metadata": {},
   "source": [
    "After importing the pdf and turning them into csv files, I am merging the main DataFrame for each youth prison with columns that represent the count of sex and gun offenses. I will show Circleville JCF and perform the same operations for Cuyahoga and Indian River JCF in one code block after."
   ]
  },
  {
   "cell_type": "code",
   "execution_count": 269,
   "id": "5087f53c-8a1e-4ec8-b506-7fa3d8538870",
   "metadata": {},
   "outputs": [
    {
     "data": {
      "text/html": [
       "<div>\n",
       "<style scoped>\n",
       "    .dataframe tbody tr th:only-of-type {\n",
       "        vertical-align: middle;\n",
       "    }\n",
       "\n",
       "    .dataframe tbody tr th {\n",
       "        vertical-align: top;\n",
       "    }\n",
       "\n",
       "    .dataframe thead th {\n",
       "        text-align: right;\n",
       "    }\n",
       "</style>\n",
       "<table border=\"1\" class=\"dataframe\">\n",
       "  <thead>\n",
       "    <tr style=\"text-align: right;\">\n",
       "      <th></th>\n",
       "      <th>Race</th>\n",
       "      <th>Sex Offenses</th>\n",
       "    </tr>\n",
       "  </thead>\n",
       "  <tbody>\n",
       "    <tr>\n",
       "      <th>0</th>\n",
       "      <td>White</td>\n",
       "      <td>10</td>\n",
       "    </tr>\n",
       "    <tr>\n",
       "      <th>1</th>\n",
       "      <td>Black</td>\n",
       "      <td>5</td>\n",
       "    </tr>\n",
       "    <tr>\n",
       "      <th>2</th>\n",
       "      <td>Hispanic</td>\n",
       "      <td>2</td>\n",
       "    </tr>\n",
       "  </tbody>\n",
       "</table>\n",
       "</div>"
      ],
      "text/plain": [
       "       Race  Sex Offenses\n",
       "0     White            10\n",
       "1     Black             5\n",
       "2  Hispanic             2"
      ]
     },
     "execution_count": 269,
     "metadata": {},
     "output_type": "execute_result"
    }
   ],
   "source": [
    "#Sexual offenses Circleville JCF\n",
    "tabula.convert_into(\"Circleville_sex_off_youth.pdf\", \"circle_sexoff_race.csv\", output_format=\"csv\", pages='1')\n",
    "circle_sexoff_df = pd.DataFrame(pd.read_csv(\"circle_sexoff_race.csv\"))\n",
    "circle_sexoff_df = circle_sexoff_df.drop(3).rename(columns={\"Current\\rPopulation\": \"Sex Offenses\"})\n",
    "circle_sexoff_df "
   ]
  },
  {
   "cell_type": "code",
   "execution_count": 270,
   "id": "3168a84e-59e8-4b91-9ed0-288c1f0e5e39",
   "metadata": {},
   "outputs": [
    {
     "data": {
      "text/html": [
       "<div>\n",
       "<style scoped>\n",
       "    .dataframe tbody tr th:only-of-type {\n",
       "        vertical-align: middle;\n",
       "    }\n",
       "\n",
       "    .dataframe tbody tr th {\n",
       "        vertical-align: top;\n",
       "    }\n",
       "\n",
       "    .dataframe thead th {\n",
       "        text-align: right;\n",
       "    }\n",
       "</style>\n",
       "<table border=\"1\" class=\"dataframe\">\n",
       "  <thead>\n",
       "    <tr style=\"text-align: right;\">\n",
       "      <th></th>\n",
       "      <th>Race</th>\n",
       "      <th>Gun Offenses</th>\n",
       "    </tr>\n",
       "  </thead>\n",
       "  <tbody>\n",
       "    <tr>\n",
       "      <th>0</th>\n",
       "      <td>White</td>\n",
       "      <td>8</td>\n",
       "    </tr>\n",
       "    <tr>\n",
       "      <th>1</th>\n",
       "      <td>Black</td>\n",
       "      <td>68</td>\n",
       "    </tr>\n",
       "    <tr>\n",
       "      <th>2</th>\n",
       "      <td>Hispanic</td>\n",
       "      <td>3</td>\n",
       "    </tr>\n",
       "    <tr>\n",
       "      <th>3</th>\n",
       "      <td>American Indian</td>\n",
       "      <td>1</td>\n",
       "    </tr>\n",
       "  </tbody>\n",
       "</table>\n",
       "</div>"
      ],
      "text/plain": [
       "              Race  Gun Offenses\n",
       "0            White             8\n",
       "1            Black            68\n",
       "2         Hispanic             3\n",
       "3  American Indian             1"
      ]
     },
     "execution_count": 270,
     "metadata": {},
     "output_type": "execute_result"
    }
   ],
   "source": [
    "#Gun offenses Circleville JCF\n",
    "tabula.convert_into(\"circle_gun_off_youth.pdf\", \"circle_gunoff_race.csv\", output_format=\"csv\", pages='1')\n",
    "circle_gunoff_df = pd.DataFrame(pd.read_csv(\"circle_gunoff_race.csv\"))\n",
    "circle_gunoff_df = circle_gunoff_df.drop(4).rename(columns={\"Current\\rPopulation\": \"Gun Offenses\"})\n",
    "circle_gunoff_df"
   ]
  },
  {
   "cell_type": "code",
   "execution_count": 289,
   "id": "90b9b621-833e-40f1-96fc-ab81c72ea742",
   "metadata": {},
   "outputs": [
    {
     "data": {
      "text/html": [
       "<div>\n",
       "<style scoped>\n",
       "    .dataframe tbody tr th:only-of-type {\n",
       "        vertical-align: middle;\n",
       "    }\n",
       "\n",
       "    .dataframe tbody tr th {\n",
       "        vertical-align: top;\n",
       "    }\n",
       "\n",
       "    .dataframe thead th {\n",
       "        text-align: right;\n",
       "    }\n",
       "</style>\n",
       "<table border=\"1\" class=\"dataframe\">\n",
       "  <thead>\n",
       "    <tr style=\"text-align: right;\">\n",
       "      <th></th>\n",
       "      <th>Race</th>\n",
       "      <th>Current Population</th>\n",
       "      <th>Facility</th>\n",
       "      <th>Sex Offenses</th>\n",
       "      <th>Gun Offenses</th>\n",
       "    </tr>\n",
       "  </thead>\n",
       "  <tbody>\n",
       "    <tr>\n",
       "      <th>0</th>\n",
       "      <td>American Indian</td>\n",
       "      <td>2</td>\n",
       "      <td>CJCF</td>\n",
       "      <td>0.0</td>\n",
       "      <td>1.0</td>\n",
       "    </tr>\n",
       "    <tr>\n",
       "      <th>1</th>\n",
       "      <td>Black</td>\n",
       "      <td>107</td>\n",
       "      <td>CJCF</td>\n",
       "      <td>5.0</td>\n",
       "      <td>68.0</td>\n",
       "    </tr>\n",
       "    <tr>\n",
       "      <th>2</th>\n",
       "      <td>Hispanic</td>\n",
       "      <td>6</td>\n",
       "      <td>CJCF</td>\n",
       "      <td>2.0</td>\n",
       "      <td>3.0</td>\n",
       "    </tr>\n",
       "    <tr>\n",
       "      <th>3</th>\n",
       "      <td>Mixed-Race</td>\n",
       "      <td>2</td>\n",
       "      <td>CJCF</td>\n",
       "      <td>0.0</td>\n",
       "      <td>0.0</td>\n",
       "    </tr>\n",
       "    <tr>\n",
       "      <th>4</th>\n",
       "      <td>White</td>\n",
       "      <td>30</td>\n",
       "      <td>CJCF</td>\n",
       "      <td>10.0</td>\n",
       "      <td>8.0</td>\n",
       "    </tr>\n",
       "  </tbody>\n",
       "</table>\n",
       "</div>"
      ],
      "text/plain": [
       "              Race  Current Population Facility  Sex Offenses  Gun Offenses\n",
       "0  American Indian                   2     CJCF           0.0           1.0\n",
       "1            Black                 107     CJCF           5.0          68.0\n",
       "2         Hispanic                   6     CJCF           2.0           3.0\n",
       "3       Mixed-Race                   2     CJCF           0.0           0.0\n",
       "4            White                  30     CJCF          10.0           8.0"
      ]
     },
     "execution_count": 289,
     "metadata": {},
     "output_type": "execute_result"
    }
   ],
   "source": [
    "circle_race_df = pd.merge(circle_race_df, circle_sexoff_df, how = \"outer\").merge(circle_gunoff_df, how = \"outer\")\n",
    "circle_race_df.fillna(0, inplace = True)\n",
    "circle_race_df"
   ]
  },
  {
   "cell_type": "markdown",
   "id": "73017152-86d2-49ca-bc7f-09e87efe9e12",
   "metadata": {},
   "source": [
    "I will repeat the steps above for Cuyahoga and Indian River"
   ]
  },
  {
   "cell_type": "code",
   "execution_count": null,
   "id": "63fba2f0-d00d-4ac9-abfe-771c8dbf26a5",
   "metadata": {},
   "outputs": [],
   "source": [
    "'''tabula.convert_into(\"Circleville_sex_off_youth.pdf\", \"circle_sexoff_time.csv\", output_format=\"csv\", pages='3')\n",
    "circle_sexoff_time_df = pd.DataFrame(pd.read_csv(\"circle_sexoff_time.csv\"))\n",
    "circle_sexoff_time_df'''"
   ]
  },
  {
   "cell_type": "markdown",
   "id": "e146da81-36c7-4409-ad67-3d1eb97f3caa",
   "metadata": {},
   "source": [
    "#### Circleville Race Population and Offenses for African Americans, Whites, and Hispanics"
   ]
  },
  {
   "cell_type": "code",
   "execution_count": 302,
   "id": "dac2f065-4285-43f8-9e84-a1ce3a78ccec",
   "metadata": {},
   "outputs": [],
   "source": [
    "afr = circle_race_df[\"Sex Offenses\"], circle_race_df[\"Gun Offenses\"]"
   ]
  },
  {
   "cell_type": "code",
   "execution_count": 311,
   "id": "5d13f36d-e411-40c2-93dc-95499f233d79",
   "metadata": {},
   "outputs": [
    {
     "data": {
      "image/png": "[encoded data removed]",
      "text/plain": [
       "<Figure size 640x480 with 1 Axes>"
      ]
     },
     "metadata": {},
     "output_type": "display_data"
    }
   ],
   "source": [
    "# 3 pie charts African American, Hispanic, White. Each pie chart shows gun or sex offense or other. \n",
    "fig2, ax2 = plt.subplots()\n",
    "#African American Pie\n",
    "ax2.pie(circle_race_df[\"Sex Offenses\"], colors = colors_, autopct = '%1.1f%%', pctdistance = 1.15)\n",
    "ax2.set_title(\"Circleville JCF\")\n",
    "\n",
    "plt.show()"
   ]
  },
  {
   "cell_type": "markdown",
   "id": "7580361d-f23d-40f4-85b9-960e286e9b82",
   "metadata": {},
   "source": [
    "How does it connect to the broader population of adult incarceration or all of Ohio?"
   ]
  }
 ],
 "metadata": {
  "kernelspec": {
   "display_name": "Python 3 (ipykernel)",
   "language": "python",
   "name": "python3"
  },
  "language_info": {
   "codemirror_mode": {
    "name": "ipython",
    "version": 3
   },
   "file_extension": ".py",
   "mimetype": "text/x-python",
   "name": "python",
   "nbconvert_exporter": "python",
   "pygments_lexer": "ipython3",
   "version": "3.12.4"
  }
 },
 "nbformat": 4,
 "nbformat_minor": 5
}
