{
 "cells": [
  {
   "cell_type": "markdown",
   "id": "631a0f36",
   "metadata": {},
   "source": [
    "# What I Hope to Gain from EMAT Data in Media and Tech\n",
    "\n",
    "## Well, a number of things"
   ]
  },
  {
   "cell_type": "markdown",
   "id": "f0b013ec",
   "metadata": {},
   "source": [
    "### 1. I want to practice ***Data Science-y*** things with Python\n",
    "\n",
    "    I am a junior Computer Science major with a concentration in Data Engineering. I had no idea what EMAT was when I started at Kent State. I'm knee deep into the CS program (which is heavy on C++) so I'm adding Data Science/Python classes in where I can."
   ]
  },
  {
   "cell_type": "markdown",
   "id": "c937349b",
   "metadata": {},
   "source": [
    "### 2. Experience working on projects outside of Computer Science Labs (which I find too ***program-y*** for my liking)\n",
    "\n",
    "    "
   ]
  },
  {
   "cell_type": "markdown",
   "id": "edf43f9e",
   "metadata": {},
   "source": [
    "### 3. More practice with **graphs** and **data presentation**"
   ]
  },
  {
   "cell_type": "markdown",
   "id": "920b3921",
   "metadata": {},
   "source": [
    "### 4. A better understanding of the **potential of data**"
   ]
  },
  {
   "cell_type": "markdown",
   "id": "3221cfba",
   "metadata": {},
   "source": [
    "### 5. To get closer to my dream career as a Data Journalist like **Mona Chalabi**"
   ]
  }
 ],
 "metadata": {
  "kernelspec": {
   "display_name": "Python 3 (ipykernel)",
   "language": "python",
   "name": "python3"
  },
  "language_info": {
   "codemirror_mode": {
    "name": "ipython",
    "version": 3
   },
   "file_extension": ".py",
   "mimetype": "text/x-python",
   "name": "python",
   "nbconvert_exporter": "python",
   "pygments_lexer": "ipython3",
   "version": "3.12.4"
  }
 },
 "nbformat": 4,
 "nbformat_minor": 5
}
