{
 "cells": [
  {
   "cell_type": "markdown",
   "id": "631a0f36",
   "metadata": {},
   "source": [
    "# Systems Check\n",
    "\n",
    "### Bianca Amoako\n",
    "### 08/22/2024\n",
    "\n",
    "\n",
    "## What I Hope to Gain from Data EMAT\n",
    "\n",
    "### Well, a number of things"
   ]
  },
  {
   "cell_type": "markdown",
   "id": "f0b013ec",
   "metadata": {},
   "source": [
    "#### 1. I want to practice ***Data Science-y*** things with Python\n",
    "\n",
    "    I am a junior Computer Science major with a concentration in Data Engineering. I had no idea what EMAT was when I started at Kent State. I'm knee deep into the CS program (which is heavy on C++) so I'm adding in Data Science/Python classes where I can."
   ]
  },
  {
   "cell_type": "markdown",
   "id": "c937349b",
   "metadata": {},
   "source": [
    "#### 2. Experience working on **projects**\n",
    "\n",
    "    The labs in CS are problem solving focused, but not project focused. My first semester at Kent, I took Programming for Scientists with Jianfeng Zhu (love her up and down) which was basically a Data Science/Programming intro with Python. There was a data science final project that I really enjoyed doing. I want to do more."
   ]
  },
  {
   "cell_type": "markdown",
   "id": "edf43f9e",
   "metadata": {},
   "source": [
    "#### 3. More practice with **graphs** and **data presentation**\n",
    "\n",
    "    I like to make things aesthetic; photos, videos, graphs, typography. So, I hope to get more practice with graphs and data presentation with MatplotLib (or any other packages). I also want to learn what graphs work best for certain insights. What is the best way to present findings?"
   ]
  },
  {
   "cell_type": "markdown",
   "id": "920b3921",
   "metadata": {},
   "source": [
    "#### 4. A better understanding of the **potential of data**\n",
    "\n",
    "    I want to learn how to pull answers/stories from data. Sometimes it's difficult to ask the right questions or know where to start. I've taken Decision Making for Uncertainty, which was an RStudio and intro statistics course, but the questions about the data were already provided. Otherwise, I would have no idea what useful information to pull from it.  "
   ]
  },
  {
   "attachments": {},
   "cell_type": "markdown",
   "id": "3221cfba",
   "metadata": {},
   "source": [
    "#### 5. To get closer to my dream career as a Data Journalist like **Mona Chalabi**\n",
    "\n",
    "    When I graduated high school, I wanted to go to school for journalism. My dad was like, No, no, no, get a degree that will get you a well-paying job. So, I went into Computer Science. Then I felt like the creative side of my brain was dying and I missed writing/being creative. Enter Mona Chalabi.\n",
    "    \n",
    "> <img src=\"https://d1y8sb8igg2f8e.cloudfront.net/images/Mona_Chalabi_Emerson_Collective_Fellow.original.jpg\" width=\"300\">\n",
    "\n",
    "    Mona Chalabi is a Data Journalist! She, iconically, has combined two paths; Data Science and Journalism.\n",
    "        \n",
    "> <img src=\"https://pbs.twimg.com/media/GL3cl4MXoAAcA5r?format=jpg&name=4096x4096\" width=\"500\" height=\"400\">\n",
    "\n",
    "\n",
    "    So, I picked up a journalism minor and took this class as more experience with data science, all in the hopes to do something close to what she does.\n"
   ]
  },
  {
   "cell_type": "markdown",
   "id": "f2b6abfa-1afa-4b7e-ae61-6b8d72070187",
   "metadata": {},
   "source": [
    "---\n",
    "\n",
    "\n",
    "#### Basic Python"
   ]
  },
  {
   "cell_type": "code",
   "execution_count": 1,
   "id": "2be412a4-21ff-4c00-af19-88082b094e4c",
   "metadata": {},
   "outputs": [
    {
     "name": "stdin",
     "output_type": "stream",
     "text": [
      "How many hours a night do you sleep?  8\n"
     ]
    },
    {
     "name": "stdout",
     "output_type": "stream",
     "text": [
      "1\n",
      "2\n",
      "3\n",
      "4\n",
      "5\n",
      "6\n",
      "7\n",
      "8\n",
      "That's a good amount of sleep!\n",
      "You sleep 56 hours a week.\n"
     ]
    }
   ],
   "source": [
    "# Create a code cell demonstrating each of the following Python syntax: \n",
    "\n",
    "\n",
    "# a return statement\n",
    "def week_sleep(user_sleep):\n",
    "    return user_sleep * 7\n",
    "    \n",
    "# variable assignment\n",
    "num_sleep = input(\"How many hours a night do you sleep? \")\n",
    "num_sleep = int(num_sleep)\n",
    "\n",
    "# a for loop \n",
    "for x in range(num_sleep):\n",
    "    print(x+1)\n",
    "\n",
    "if num_sleep < 0:\n",
    "    print(\"You put in a negative number -_-\")\n",
    "    \n",
    "if num_sleep >= 0:\n",
    "    if num_sleep > 0 and num_sleep < 7:\n",
    "        print(\"Wow, that's not many hours.\")\n",
    "    elif num_sleep >= 7 and num_sleep <= 9:\n",
    "        print(\"That's a good amount of sleep!\")\n",
    "    else:\n",
    "        print(\"That's a lot of sleepy time!\")\n",
    "   # a print statement \n",
    "    print(\"You sleep\", week_sleep(num_sleep), \"hours a week.\")\n"
   ]
  }
 ],
 "metadata": {
  "kernelspec": {
   "display_name": "Python 3 (ipykernel)",
   "language": "python",
   "name": "python3"
  },
  "language_info": {
   "codemirror_mode": {
    "name": "ipython",
    "version": 3
   },
   "file_extension": ".py",
   "mimetype": "text/x-python",
   "name": "python",
   "nbconvert_exporter": "python",
   "pygments_lexer": "ipython3",
   "version": "3.12.4"
  }
 },
 "nbformat": 4,
 "nbformat_minor": 5
}
